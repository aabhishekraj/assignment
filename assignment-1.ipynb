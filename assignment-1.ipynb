{
 "cells": [
  {
   "cell_type": "code",
   "execution_count": null,
   "id": "65facbb9-0c7b-401c-9bdb-f62bf8a569e5",
   "metadata": {},
   "outputs": [],
   "source": [
    "#Q1(i)\n",
    "variable1='assignment1'\n",
    "#Q1(ii)\n",
    "variable2= [\"assignment\",1,1.00,True]\n",
    "#Q1(iii)\n",
    "variable3= 3.14159265359\n",
    "#Q1(iv)\n",
    "variable4=(\"assignment\",1,1.00,True)\n"
   ]
  },
  {
   "cell_type": "code",
   "execution_count": 2,
   "id": "27e70e31-a7f0-4b70-b64a-f5e09179d360",
   "metadata": {},
   "outputs": [
    {
     "data": {
      "text/plain": [
       "str"
      ]
     },
     "execution_count": 2,
     "metadata": {},
     "output_type": "execute_result"
    }
   ],
   "source": [
    "#Q2(i)\n",
    "var1=' '\n",
    "type(var1)"
   ]
  },
  {
   "cell_type": "code",
   "execution_count": 4,
   "id": "cf21d52c-ebe7-49b4-a66e-3bbe0b432cb5",
   "metadata": {},
   "outputs": [
    {
     "data": {
      "text/plain": [
       "str"
      ]
     },
     "execution_count": 4,
     "metadata": {},
     "output_type": "execute_result"
    }
   ],
   "source": [
    "#Q2(ii)\n",
    "var2= '[ DS , ML , Python]'\n",
    "type(var2)"
   ]
  },
  {
   "cell_type": "code",
   "execution_count": 5,
   "id": "8e5d5938-02c2-4f1c-8b82-c51a86c3c733",
   "metadata": {},
   "outputs": [
    {
     "data": {
      "text/plain": [
       "list"
      ]
     },
     "execution_count": 5,
     "metadata": {},
     "output_type": "execute_result"
    }
   ],
   "source": [
    "#Q2(iii)\n",
    "var3=['DS' , 'ML' , 'Python']\n",
    "type(var3)"
   ]
  },
  {
   "cell_type": "code",
   "execution_count": 6,
   "id": "fcd31d8b-4fd8-4349-95e5-a5adfd34edfb",
   "metadata": {},
   "outputs": [
    {
     "data": {
      "text/plain": [
       "int"
      ]
     },
     "execution_count": 6,
     "metadata": {},
     "output_type": "execute_result"
    }
   ],
   "source": [
    "#Q3(iv)\n",
    "var4=1\n",
    "type(var4)"
   ]
  },
  {
   "cell_type": "code",
   "execution_count": null,
   "id": "ed2f4c9d-fd7c-4c0f-9021-6422f361904e",
   "metadata": {},
   "outputs": [],
   "source": [
    "#Q3(i)\n",
    "/ is used in python for performing the mathematical division which gives quotient as the result when first \n",
    "number is divided by the second number.\n",
    "#Q3(ii)\n",
    "% operator in python is called as modulus operator and gives out the remainder as the result when first \n",
    "number is divided by the second number.\n",
    "#Q3(iii)\n",
    "// is used in python for performing the floor division where // operator divides the first\n",
    "number by the second number and rounds the result down to the nearest integer. \n",
    "#Q3(iv)\n",
    "** is used in python for performing the exponential operation, second number is raised to the power of the first number \n",
    "and henceforth the result is obtained.\n"
   ]
  },
  {
   "cell_type": "code",
   "execution_count": 7,
   "id": "c7051c09-9aed-4056-a7b2-393d45abf74b",
   "metadata": {},
   "outputs": [
    {
     "name": "stdout",
     "output_type": "stream",
     "text": [
      "1\n",
      "<class 'int'>\n",
      "2\n",
      "<class 'int'>\n",
      "3.0\n",
      "<class 'float'>\n",
      "4.0\n",
      "<class 'float'>\n",
      "five\n",
      "<class 'str'>\n",
      "six\n",
      "<class 'str'>\n",
      "7.0\n",
      "<class 'float'>\n",
      "8.0\n",
      "<class 'float'>\n",
      "True\n",
      "<class 'bool'>\n",
      "False\n",
      "<class 'bool'>\n"
     ]
    }
   ],
   "source": [
    "#Q4\n",
    "ques_list = [1 , 2 , 3.00 , 4.00 , \"five\" , \"six\" , 7.00 , 8.00 , True , False ]\n",
    "for i in ques_list:\n",
    "    print(i)\n",
    "    print(type(i))\n"
   ]
  },
  {
   "cell_type": "code",
   "execution_count": 1,
   "id": "6406dbf4-54c0-4e52-a0a8-082b09cbaa67",
   "metadata": {},
   "outputs": [],
   "source": [
    "#Q5\n",
    "def count_divisions(a, b):\n",
    "    count = 0\n",
    "    \n",
    "    while a % b == 0:\n",
    "        a = a // b\n",
    "        count += 1\n",
    "    \n",
    "    return count\n",
    "\n",
    "\n",
    "# Example usage\n",
    "number_A = 100\n",
    "number_B = 5\n",
    "\n",
    "divisions = count_divisions(number_A, number_B)\n",
    "\n",
    "if divisions > 0:\n",
    "    print(f\"{number_A} is divisible by {number_B} and can be divided {divisions} times.\")\n",
    "else:\n",
    "    print(f\"{number_A} is not divisible by {number_B}.\")\n"
   ]
  },
  {
   "cell_type": "code",
   "execution_count": 9,
   "id": "d09ccb7c-36b8-4cd2-b7f1-f04a717a28e0",
   "metadata": {},
   "outputs": [],
   "source": [
    "number_1=100\n",
    "number_2=50\n",
    "Number_of_times_divsion_is_possible= count_divisions(number_1,number_2)\n",
    "\n"
   ]
  },
  {
   "cell_type": "code",
   "execution_count": 6,
   "id": "26434af0-0c76-4440-b8c0-86de10ba03bd",
   "metadata": {},
   "outputs": [
    {
     "name": "stdout",
     "output_type": "stream",
     "text": [
      "1\n",
      "not divisible by 3\n",
      "2\n",
      "not divisible by 3\n",
      "3\n",
      "divisible by 3\n",
      "4\n",
      "not divisible by 3\n",
      "5\n",
      "not divisible by 3\n",
      "6\n",
      "divisible by 3\n",
      "7\n",
      "not divisible by 3\n",
      "8\n",
      "not divisible by 3\n",
      "9\n",
      "divisible by 3\n",
      "10\n",
      "not divisible by 3\n",
      "11\n",
      "not divisible by 3\n",
      "12\n",
      "divisible by 3\n",
      "13\n",
      "not divisible by 3\n",
      "14\n",
      "not divisible by 3\n",
      "15\n",
      "divisible by 3\n",
      "16\n",
      "not divisible by 3\n",
      "17\n",
      "not divisible by 3\n",
      "18\n",
      "divisible by 3\n",
      "19\n",
      "not divisible by 3\n",
      "20\n",
      "not divisible by 3\n",
      "21\n",
      "divisible by 3\n",
      "22\n",
      "not divisible by 3\n",
      "23\n",
      "not divisible by 3\n",
      "24\n",
      "divisible by 3\n",
      "25\n",
      "not divisible by 3\n"
     ]
    }
   ],
   "source": [
    "#Q6\n",
    "ques6_list=[1,2,3,4,5,6,7,8,9,10,11,12,13,14,15,16,17,18,19,20,21,22,23,24,25]\n",
    "for i in ques6_list :\n",
    "    if i%3==0:\n",
    "        print(i)\n",
    "        print(\"divisible by 3\")\n",
    "    elif i%3 != 0:\n",
    "        print(i)\n",
    "        print(\"not divisible by 3\")\n",
    "    else:\n",
    "        print(\"error\")\n",
    "i=i+1\n",
    "       "
   ]
  },
  {
   "cell_type": "code",
   "execution_count": null,
   "id": "3ce9a713-7295-4f9f-a08f-7544fe124908",
   "metadata": {},
   "outputs": [],
   "source": [
    "#Q7\n",
    "In immutable data types, we can't change the data inserted as different values of data types after creatting it and in contrary \n",
    "in mutable data types we can change the data inserted as different values of data types after creating it.\n",
    "Or it can be  said that whether you’re able to change an object’s state or contained data is what defines if \n",
    "that object is mutable or immutable.\n",
    "\n",
    "Examples of mutable data type is 'LIST' and example of immutable data type is 'STRING'."
   ]
  },
  {
   "cell_type": "code",
   "execution_count": 4,
   "id": "2924ba07-cd5c-4b95-98a6-b34c96d8980c",
   "metadata": {},
   "outputs": [
    {
     "data": {
      "text/plain": [
       "[1, 7, 2, 2, 2, 4, 4, 4]"
      ]
     },
     "execution_count": 4,
     "metadata": {},
     "output_type": "execute_result"
    }
   ],
   "source": [
    "#example1\n",
    "list = [1,2,2,2,2,4,4,4]\n",
    "list[1]=7\n",
    "list"
   ]
  },
  {
   "cell_type": "code",
   "execution_count": 5,
   "id": "b76015d6-c39b-46f6-800a-9e39bc2eab3c",
   "metadata": {},
   "outputs": [
    {
     "ename": "NameError",
     "evalue": "name 'g' is not defined",
     "output_type": "error",
     "traceback": [
      "\u001b[0;31m---------------------------------------------------------------------------\u001b[0m",
      "\u001b[0;31mNameError\u001b[0m                                 Traceback (most recent call last)",
      "Cell \u001b[0;32mIn[5], line 3\u001b[0m\n\u001b[1;32m      1\u001b[0m \u001b[38;5;66;03m#example2\u001b[39;00m\n\u001b[1;32m      2\u001b[0m string\u001b[38;5;241m=\u001b[39m\u001b[38;5;124m\"\u001b[39m\u001b[38;5;124mimmutation\u001b[39m\u001b[38;5;124m\"\u001b[39m\n\u001b[0;32m----> 3\u001b[0m string[\u001b[38;5;241m1\u001b[39m]\u001b[38;5;241m=\u001b[39m\u001b[43mg\u001b[49m\n\u001b[1;32m      4\u001b[0m string\n",
      "\u001b[0;31mNameError\u001b[0m: name 'g' is not defined"
     ]
    }
   ],
   "source": [
    "#example2\n",
    "string=\"immutation\"\n",
    "string[1]=g\n",
    "string"
   ]
  },
  {
   "cell_type": "code",
   "execution_count": null,
   "id": "9044f95f-e6b8-459d-9965-e7f14e2d1f34",
   "metadata": {},
   "outputs": [],
   "source": [
    "so, by the above both exampples it can be proved that lists are mutable and strings are immutable."
   ]
  }
 ],
 "metadata": {
  "kernelspec": {
   "display_name": "Python 3 (ipykernel)",
   "language": "python",
   "name": "python3"
  },
  "language_info": {
   "codemirror_mode": {
    "name": "ipython",
    "version": 3
   },
   "file_extension": ".py",
   "mimetype": "text/x-python",
   "name": "python",
   "nbconvert_exporter": "python",
   "pygments_lexer": "ipython3",
   "version": "3.10.8"
  }
 },
 "nbformat": 4,
 "nbformat_minor": 5
}
